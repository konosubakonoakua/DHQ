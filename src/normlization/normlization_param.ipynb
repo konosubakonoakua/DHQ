{
  "cells": [
    {
      "cell_type": "code",
      "metadata": {
        "tags": [],
        "cell_id": "00000-07b512bd-c034-48ce-95d5-e6fe3c7be163",
        "deepnote_to_be_reexecuted": false,
        "source_hash": "1c0ab35f",
        "execution_millis": 2,
        "execution_start": 1619504085283,
        "deepnote_cell_type": "code"
      },
      "source": "import argparse\nimport os\nimport numpy as np\nimport torchvision\nimport torchvision.transforms as transforms\nfrom torchvision import datasets\nfrom torch.utils.data import Dataset",
      "execution_count": null,
      "outputs": []
    },
    {
      "cell_type": "code",
      "metadata": {
        "tags": [],
        "cell_id": "00001-3289bd04-ad34-4513-9822-287bb1d0fa47",
        "deepnote_to_be_reexecuted": false,
        "source_hash": "8606b03c",
        "execution_millis": 1774,
        "output_cleared": false,
        "execution_start": 1619504089675,
        "deepnote_cell_type": "code"
      },
      "source": "print(\"cifar10\"+ \"*\"*100)\ntrain_transform = transforms.Compose([transforms.ToTensor()])\ntrain_set = torchvision.datasets.CIFAR10(root=\"./cifar10\", train=True, download=True, transform=train_transform)\nprint(train_set)\nprint(train_set.data.shape)\nprint(\"mean:\")\nprint(np.mean(train_set.data, axis=(0,1,2))/255)\nprint(\"std:\")\nprint(np.std(train_set.data, axis=(0,1,2))/255)\nprint(\"*\"*100)",
      "execution_count": null,
      "outputs": [
        {
          "name": "stdout",
          "text": "cifar10****************************************************************************************************\nFiles already downloaded and verified\nDataset CIFAR10\n    Number of datapoints: 50000\n    Root location: ./cifar10\n    Split: Train\n    StandardTransform\nTransform: Compose(\n               ToTensor()\n           )\n(50000, 32, 32, 3)\nmean:\n[0.49139968 0.48215841 0.44653091]\nstd:\n[0.24703223 0.24348513 0.26158784]\n****************************************************************************************************\n",
          "output_type": "stream"
        }
      ]
    },
    {
      "cell_type": "code",
      "metadata": {
        "tags": [],
        "cell_id": "00002-84a67226-170f-4cef-be5d-6e9b7ba5a47c",
        "deepnote_to_be_reexecuted": false,
        "source_hash": "291c192a",
        "execution_start": 1619504168075,
        "execution_millis": 3872,
        "deepnote_cell_type": "code"
      },
      "source": "!curl https://www.cs.toronto.edu/~kriz/cifar-100-python.tar.gz -o ./cifar100/cifar-100-python.tar.gz",
      "execution_count": null,
      "outputs": [
        {
          "name": "stdout",
          "text": "  % Total    % Received % Xferd  Average Speed   Time    Time     Time  Current\n                                 Dload  Upload   Total   Spent    Left  Speed\n100  161M  100  161M    0     0  56.8M      0  0:00:02  0:00:02 --:--:-- 56.7M\n",
          "output_type": "stream"
        }
      ]
    },
    {
      "cell_type": "code",
      "metadata": {
        "tags": [],
        "cell_id": "00001-067ee692-316d-412c-90c4-f4388fb58c37",
        "deepnote_to_be_reexecuted": false,
        "source_hash": "e6f6827c",
        "execution_millis": 1869,
        "execution_start": 1619504262369,
        "deepnote_cell_type": "code"
      },
      "source": "print(\"cifar100\"+ \"*\"*100)\ntrain_set = torchvision.datasets.CIFAR100(root=\"./cifar100\", train=True, download=True, transform=train_transform)\nprint(train_set)\nprint(train_set.data.shape)\nprint(\"mean:\")\nprint(np.mean(train_set.data, axis=(0,1,2))/255)\nprint(\"std:\")\nprint(np.std(train_set.data, axis=(0,1,2))/255)\nprint(\"*\"*100)",
      "execution_count": null,
      "outputs": [
        {
          "name": "stdout",
          "text": "cifar100****************************************************************************************************\nFiles already downloaded and verified\nDataset CIFAR100\n    Number of datapoints: 50000\n    Root location: ./cifar100\n    Split: Train\n    StandardTransform\nTransform: Compose(\n               ToTensor()\n           )\n(50000, 32, 32, 3)\nmean:\n[0.50707516 0.48654887 0.44091784]\nstd:\n[0.26733429 0.25643846 0.27615047]\n****************************************************************************************************\n",
          "output_type": "stream"
        }
      ]
    },
    {
      "cell_type": "code",
      "metadata": {
        "tags": [],
        "cell_id": "00004-8936cbb3-fa1a-4412-8599-fbe0010eafab",
        "deepnote_to_be_reexecuted": false,
        "source_hash": "5e30c28f",
        "execution_millis": 772,
        "execution_start": 1619504582958,
        "deepnote_cell_type": "code"
      },
      "source": "!curl https://ossci-datasets.s3.amazonaws.com/mnist/train-images-idx3-ubyte.gz -o ./mnist/MNIST/raw/train-images-idx3-ubyte.gz",
      "execution_count": null,
      "outputs": [
        {
          "name": "stdout",
          "text": "  % Total    % Received % Xferd  Average Speed   Time    Time     Time  Current\n                                 Dload  Upload   Total   Spent    Left  Speed\n100 9680k  100 9680k    0     0  60.5M      0 --:--:-- --:--:-- --:--:-- 60.5M\n",
          "output_type": "stream"
        }
      ]
    },
    {
      "cell_type": "code",
      "metadata": {
        "tags": [],
        "cell_id": "00005-305107ca-2f06-4d92-8792-6742a4a2a22e",
        "deepnote_to_be_reexecuted": false,
        "source_hash": "dd99d2b3",
        "execution_millis": 678,
        "execution_start": 1619504639397,
        "deepnote_cell_type": "code"
      },
      "source": "!curl https://ossci-datasets.s3.amazonaws.com/mnist/train-labels-idx1-ubyte.gz -o ./mnist/MNIST/raw/train-labels-idx1-ubyte.gz",
      "execution_count": null,
      "outputs": [
        {
          "name": "stdout",
          "text": "  % Total    % Received % Xferd  Average Speed   Time    Time     Time  Current\n                                 Dload  Upload   Total   Spent    Left  Speed\n100 28881  100 28881    0     0   433k      0 --:--:-- --:--:-- --:--:--  433k\n",
          "output_type": "stream"
        }
      ]
    },
    {
      "cell_type": "code",
      "metadata": {
        "tags": [],
        "cell_id": "00006-334bed55-1864-453e-b023-1e008aa69cdf",
        "deepnote_to_be_reexecuted": false,
        "source_hash": "f92c0fcf",
        "execution_start": 1619504679533,
        "execution_millis": 655,
        "deepnote_cell_type": "code"
      },
      "source": "!curl https://ossci-datasets.s3.amazonaws.com/mnist/t10k-images-idx3-ubyte.gz -o ./mnist/MNIST/raw/t10k-images-idx3-ubyte.gz",
      "execution_count": null,
      "outputs": [
        {
          "name": "stdout",
          "text": "  % Total    % Received % Xferd  Average Speed   Time    Time     Time  Current\n                                 Dload  Upload   Total   Spent    Left  Speed\n100 1610k  100 1610k    0     0  37.4M      0 --:--:-- --:--:-- --:--:-- 37.4M\n",
          "output_type": "stream"
        }
      ]
    },
    {
      "cell_type": "code",
      "metadata": {
        "tags": [],
        "cell_id": "00007-454adc09-c5dd-41ef-b570-2b6bac893569",
        "deepnote_to_be_reexecuted": false,
        "source_hash": "34c191a5",
        "execution_start": 1619504964571,
        "execution_millis": 659,
        "deepnote_cell_type": "code"
      },
      "source": "!curl https://ossci-datasets.s3.amazonaws.com/mnist/t10k-labels-idx1-ubyte.gz -o ./mnist/MNIST/raw/t10k-labels-idx1-ubyte.gz\n",
      "execution_count": null,
      "outputs": [
        {
          "name": "stdout",
          "text": "  % Total    % Received % Xferd  Average Speed   Time    Time     Time  Current\n                                 Dload  Upload   Total   Spent    Left  Speed\n100  4542  100  4542    0     0  96638      0 --:--:-- --:--:-- --:--:-- 98739\n",
          "output_type": "stream"
        }
      ]
    },
    {
      "cell_type": "code",
      "metadata": {
        "tags": [],
        "cell_id": "00003-cfd835fd-f78c-4ecc-85bc-a54e25d8ae3b",
        "deepnote_to_be_reexecuted": false,
        "source_hash": "cbd9e64e",
        "execution_millis": 378,
        "execution_start": 1619505089943,
        "deepnote_cell_type": "code"
      },
      "source": "# print(train_set)\n# print(list(train_set.data.size()))\n\nprint(\"cifar100\"+ \"*\"*100)\ntrain_set = torchvision.datasets.MNIST(root='./mnist', train=True, download=True, transform=train_transform)\nprint(train_set)\nprint(train_set.data.shape)\nprint(\"mean:\")\nprint((train_set.data.float().mean()/255).item())\nprint(\"std:\")\nprint((train_set.data.float().std()/255).item())\nprint(\"*\"*100)",
      "execution_count": null,
      "outputs": [
        {
          "name": "stdout",
          "text": "cifar100****************************************************************************************************\nDataset MNIST\n    Number of datapoints: 60000\n    Root location: ./mnist\n    Split: Train\n    StandardTransform\nTransform: Compose(\n               ToTensor()\n           )\ntorch.Size([60000, 28, 28])\nmean:\n0.13066047430038452\nstd:\n0.30810779333114624\n****************************************************************************************************\n",
          "output_type": "stream"
        }
      ]
    },
    {
      "cell_type": "code",
      "metadata": {
        "tags": [],
        "cell_id": "00009-87d78f8c-4ee0-438d-9990-e95ae7de9358",
        "deepnote_to_be_reexecuted": false,
        "source_hash": "7706ccfa",
        "execution_millis": 3,
        "execution_start": 1619506495475,
        "deepnote_cell_type": "code"
      },
      "source": "_data = {\n    'imagenet': {\n        'mean': [0.485, 0.456, 0.406], # mean\n        'std': [0.229, 0.224, 0.225], # std\n    },\n    'cifar10': {\n        'mean': [0.49139968, 0.48215841, 0.44653091], # mean\n        'std': [0.24703223, 0.24348513, 0.26158784], # std\n    },\n    'cifar100': {\n        'mean': [0.50707516, 0.48654887, 0.44091784],\n        'std': [0.26733429, 0.25643846, 0.27615047],\n    },\n    'mnist': {\n        'mean': [0.13066047430038452],\n        'std': [0.30810779333114624],\n    },\n}\ndef get_dataset_mean_std(dataset_name: str='') -> dict:\n    # names = ['cifar10', 'cifar100', 'mnist']\n    if dataset_name not in _data.keys():\n        print(f\"dataset available: {[i for i in _data.keys()]}\")\n        return None\n    else:\n        return _data[dataset_name]",
      "execution_count": null,
      "outputs": []
    },
    {
      "cell_type": "code",
      "metadata": {
        "tags": [],
        "cell_id": "00010-ff161171-6eed-4523-b131-7c56d5916107",
        "deepnote_to_be_reexecuted": false,
        "source_hash": "f48afa7",
        "execution_millis": 9,
        "execution_start": 1619506530573,
        "deepnote_cell_type": "code"
      },
      "source": "get_dataset_mean_std('cifar10')",
      "execution_count": null,
      "outputs": [
        {
          "output_type": "execute_result",
          "execution_count": 59,
          "data": {
            "text/plain": "{'mean': [0.49139968, 0.48215841, 0.44653091],\n 'std': [0.24703223, 0.24348513, 0.26158784]}"
          },
          "metadata": {}
        }
      ]
    },
    {
      "cell_type": "markdown",
      "source": "<a style='text-decoration:none;line-height:16px;display:flex;color:#5B5B62;padding:10px;justify-content:end;' href='https://deepnote.com?utm_source=created-in-deepnote-cell&projectId=fee2cac7-e9c0-4831-885c-c2404547b160' target=\"_blank\">\n<img alt='Created in deepnote.com' style='display:inline;max-height:16px;margin:0px;margin-right:7.5px;' src='data:image/svg+xml;base64,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' > </img>\nCreated in <span style='font-weight:600;margin-left:4px;'>Deepnote</span></a>",
      "metadata": {
        "tags": [],
        "created_in_deepnote_cell": true,
        "deepnote_cell_type": "markdown"
      }
    }
  ],
  "nbformat": 4,
  "nbformat_minor": 2,
  "metadata": {
    "orig_nbformat": 2,
    "deepnote": {
      "is_reactive": false
    },
    "deepnote_notebook_id": "9d200d03-9e9c-4478-8b4e-3849401ae2af",
    "deepnote_execution_queue": []
  }
}